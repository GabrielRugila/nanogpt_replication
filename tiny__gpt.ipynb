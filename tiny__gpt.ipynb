{
  "nbformat": 4,
  "nbformat_minor": 0,
  "metadata": {
    "colab": {
      "provenance": [],
      "gpuType": "T4"
    },
    "kernelspec": {
      "name": "python3",
      "display_name": "Python 3"
    },
    "language_info": {
      "name": "python"
    },
    "accelerator": "GPU"
  },
  "cells": [
    {
      "cell_type": "code",
      "execution_count": null,
      "metadata": {
        "colab": {
          "base_uri": "https://localhost:8080/"
        },
        "id": "PshjC2_MPp_2",
        "outputId": "610121b3-5500-49e2-b959-ddbe0a2752ff"
      },
      "outputs": [
        {
          "output_type": "stream",
          "name": "stdout",
          "text": [
            "--2024-04-05 16:01:55--  https://raw.githubusercontent.com/karpathy/char-rnn/master/data/tinyshakespeare/input.txt\n",
            "Resolving raw.githubusercontent.com (raw.githubusercontent.com)... 185.199.108.133, 185.199.109.133, 185.199.110.133, ...\n",
            "Connecting to raw.githubusercontent.com (raw.githubusercontent.com)|185.199.108.133|:443... connected.\n",
            "HTTP request sent, awaiting response... 200 OK\n",
            "Length: 1115394 (1.1M) [text/plain]\n",
            "Saving to: ‘input.txt.2’\n",
            "\n",
            "input.txt.2         100%[===================>]   1.06M  --.-KB/s    in 0.05s   \n",
            "\n",
            "2024-04-05 16:01:55 (21.6 MB/s) - ‘input.txt.2’ saved [1115394/1115394]\n",
            "\n"
          ]
        }
      ],
      "source": [
        "!wget https://raw.githubusercontent.com/karpathy/char-rnn/master/data/tinyshakespeare/input.txt"
      ]
    },
    {
      "cell_type": "code",
      "source": [
        "import torch\n",
        "import torch.nn as nn\n",
        "from torch.nn import functional as F\n",
        "\n",
        "import numpy as np"
      ],
      "metadata": {
        "id": "8yqzPF10YtF7"
      },
      "execution_count": null,
      "outputs": []
    },
    {
      "cell_type": "code",
      "source": [
        "with open('input.txt', 'r', encoding='utf-8') as f:\n",
        "    text = f.read()\n",
        "\n",
        "print(f\"length in characters: {len(text)}\")"
      ],
      "metadata": {
        "colab": {
          "base_uri": "https://localhost:8080/"
        },
        "id": "PWtdHgfhQAKG",
        "outputId": "50028cf2-730b-461a-d56f-974710a41053"
      },
      "execution_count": null,
      "outputs": [
        {
          "output_type": "stream",
          "name": "stdout",
          "text": [
            "length in characters: 1115394\n"
          ]
        }
      ]
    },
    {
      "cell_type": "code",
      "source": [
        "print(text[:1000])"
      ],
      "metadata": {
        "colab": {
          "base_uri": "https://localhost:8080/"
        },
        "id": "FvyW5B73QAiF",
        "outputId": "bf79e1ec-9d85-495b-b4c5-af6e93a70eb4"
      },
      "execution_count": null,
      "outputs": [
        {
          "output_type": "stream",
          "name": "stdout",
          "text": [
            "First Citizen:\n",
            "Before we proceed any further, hear me speak.\n",
            "\n",
            "All:\n",
            "Speak, speak.\n",
            "\n",
            "First Citizen:\n",
            "You are all resolved rather to die than to famish?\n",
            "\n",
            "All:\n",
            "Resolved. resolved.\n",
            "\n",
            "First Citizen:\n",
            "First, you know Caius Marcius is chief enemy to the people.\n",
            "\n",
            "All:\n",
            "We know't, we know't.\n",
            "\n",
            "First Citizen:\n",
            "Let us kill him, and we'll have corn at our own price.\n",
            "Is't a verdict?\n",
            "\n",
            "All:\n",
            "No more talking on't; let it be done: away, away!\n",
            "\n",
            "Second Citizen:\n",
            "One word, good citizens.\n",
            "\n",
            "First Citizen:\n",
            "We are accounted poor citizens, the patricians good.\n",
            "What authority surfeits on would relieve us: if they\n",
            "would yield us but the superfluity, while it were\n",
            "wholesome, we might guess they relieved us humanely;\n",
            "but they think we are too dear: the leanness that\n",
            "afflicts us, the object of our misery, is as an\n",
            "inventory to particularise their abundance; our\n",
            "sufferance is a gain to them Let us revenge this with\n",
            "our pikes, ere we become rakes: for the gods know I\n",
            "speak this in hunger for bread, not in thirst for revenge.\n",
            "\n",
            "\n"
          ]
        }
      ]
    },
    {
      "cell_type": "code",
      "source": [
        "chars = sorted(list(set(text)))\n",
        "vocab_size = len(chars)\n",
        "print(''.join(chars))\n",
        "print(vocab_size)"
      ],
      "metadata": {
        "colab": {
          "base_uri": "https://localhost:8080/"
        },
        "id": "UKf8etK8QU3w",
        "outputId": "199ee4c7-1549-4664-cc9c-15cb6fba5a05"
      },
      "execution_count": null,
      "outputs": [
        {
          "output_type": "stream",
          "name": "stdout",
          "text": [
            "\n",
            " !$&',-.3:;?ABCDEFGHIJKLMNOPQRSTUVWXYZabcdefghijklmnopqrstuvwxyz\n",
            "65\n"
          ]
        }
      ]
    },
    {
      "cell_type": "code",
      "source": [
        "# mapping from char to int, and from into to char\n",
        "stoi = { ch:i for i,ch in enumerate(chars) }\n",
        "itos = { i:ch for i,ch in enumerate(chars) }\n",
        "encode = lambda s: [stoi[c] for c in s] # encoder: takes a string, outputs a list of int\n",
        "decode = lambda l: ''.join([itos[i] for i in l]) # decoder: takes a list of int, outputs a string\n",
        "\n",
        "print(encode(\"hi, there!\"))\n",
        "print(decode(encode(\"hi, there!\")))"
      ],
      "metadata": {
        "colab": {
          "base_uri": "https://localhost:8080/"
        },
        "id": "P05sYNs1QsPC",
        "outputId": "5a4cacb1-2eea-4f54-8cb2-7f9008dd7ac9"
      },
      "execution_count": null,
      "outputs": [
        {
          "output_type": "stream",
          "name": "stdout",
          "text": [
            "[46, 47, 6, 1, 58, 46, 43, 56, 43, 2]\n",
            "hi, there!\n"
          ]
        }
      ]
    },
    {
      "cell_type": "code",
      "source": [
        "data = torch.tensor(encode(text), dtype=torch.long)"
      ],
      "metadata": {
        "id": "w8DzyFHqS75e"
      },
      "execution_count": null,
      "outputs": []
    },
    {
      "cell_type": "code",
      "source": [
        "print(data.shape, data.dtype)\n",
        "print(data[:100])"
      ],
      "metadata": {
        "colab": {
          "base_uri": "https://localhost:8080/"
        },
        "id": "CsKWQu1-S72X",
        "outputId": "19bbd8b6-4ef6-4a95-e8a1-455d6d5e51cb"
      },
      "execution_count": null,
      "outputs": [
        {
          "output_type": "stream",
          "name": "stdout",
          "text": [
            "torch.Size([1115394]) torch.int64\n",
            "tensor([18, 47, 56, 57, 58,  1, 15, 47, 58, 47, 64, 43, 52, 10,  0, 14, 43, 44,\n",
            "        53, 56, 43,  1, 61, 43,  1, 54, 56, 53, 41, 43, 43, 42,  1, 39, 52, 63,\n",
            "         1, 44, 59, 56, 58, 46, 43, 56,  6,  1, 46, 43, 39, 56,  1, 51, 43,  1,\n",
            "        57, 54, 43, 39, 49,  8,  0,  0, 13, 50, 50, 10,  0, 31, 54, 43, 39, 49,\n",
            "         6,  1, 57, 54, 43, 39, 49,  8,  0,  0, 18, 47, 56, 57, 58,  1, 15, 47,\n",
            "        58, 47, 64, 43, 52, 10,  0, 37, 53, 59])\n"
          ]
        }
      ]
    },
    {
      "cell_type": "code",
      "source": [
        "n = int(0.9*len(data))\n",
        "train_data = data[:n]\n",
        "val_data = data[n:]"
      ],
      "metadata": {
        "id": "iLihQHxMS7ol"
      },
      "execution_count": null,
      "outputs": []
    },
    {
      "cell_type": "code",
      "source": [
        "block_size = 8"
      ],
      "metadata": {
        "id": "6HE8HPOMS67v"
      },
      "execution_count": null,
      "outputs": []
    },
    {
      "cell_type": "code",
      "source": [
        "train_data[:block_size+1]"
      ],
      "metadata": {
        "colab": {
          "base_uri": "https://localhost:8080/"
        },
        "id": "cQDEo5kdQVUY",
        "outputId": "1a9ba927-534b-44b2-b49a-46ba154cc780"
      },
      "execution_count": null,
      "outputs": [
        {
          "output_type": "execute_result",
          "data": {
            "text/plain": [
              "tensor([18, 47, 56, 57, 58,  1, 15, 47, 58])"
            ]
          },
          "metadata": {},
          "execution_count": 106
        }
      ]
    },
    {
      "cell_type": "code",
      "source": [
        "x = train_data[:block_size]\n",
        "y = train_data[1:block_size+1]\n",
        "for t in range(block_size):\n",
        "    context = x[:t+1]\n",
        "    target = y[t]\n",
        "    print(f\"when input is `{context}` the target is `{target}`\")"
      ],
      "metadata": {
        "colab": {
          "base_uri": "https://localhost:8080/"
        },
        "id": "aGoPBGe6TKgP",
        "outputId": "31534c01-9a58-4be6-d87b-aedf3ff47f40"
      },
      "execution_count": null,
      "outputs": [
        {
          "output_type": "stream",
          "name": "stdout",
          "text": [
            "when input is `tensor([18])` the target is `47`\n",
            "when input is `tensor([18, 47])` the target is `56`\n",
            "when input is `tensor([18, 47, 56])` the target is `57`\n",
            "when input is `tensor([18, 47, 56, 57])` the target is `58`\n",
            "when input is `tensor([18, 47, 56, 57, 58])` the target is `1`\n",
            "when input is `tensor([18, 47, 56, 57, 58,  1])` the target is `15`\n",
            "when input is `tensor([18, 47, 56, 57, 58,  1, 15])` the target is `47`\n",
            "when input is `tensor([18, 47, 56, 57, 58,  1, 15, 47])` the target is `58`\n"
          ]
        }
      ]
    },
    {
      "cell_type": "code",
      "source": [
        "torch.manual_seed(42)\n",
        "batch_size = 4\n",
        "block_size = 8\n",
        "\n",
        "def get_batch(split):\n",
        "    data = train_data if split == 'train' else val_data\n",
        "    ix = torch.randint(len(data) - block_size, (batch_size, ))\n",
        "    x = torch.stack([data[i:i+block_size] for i in ix])\n",
        "    y = torch.stack([data[i+1:i+block_size+1] for i in ix])\n",
        "    return x, y\n",
        "\n",
        "xb, yb = get_batch('train')\n",
        "print(f'inputs: {xb.shape} \\n{xb} \\ntTargets: {yb.shape} \\n{yb}')\n",
        "\n",
        "for b in range(batch_size):\n",
        "    for t in range(block_size):\n",
        "        context = xb[b, :t+1]\n",
        "        target = yb[b, t]\n",
        "        print(f\"when input is {context.tolist()} the target is {target}\")"
      ],
      "metadata": {
        "colab": {
          "base_uri": "https://localhost:8080/"
        },
        "id": "dRc5XcrNTKdn",
        "outputId": "176820e7-bb81-4b4a-d63c-d509048f9067"
      },
      "execution_count": null,
      "outputs": [
        {
          "output_type": "stream",
          "name": "stdout",
          "text": [
            "inputs: torch.Size([4, 8]) \n",
            "tensor([[57,  1, 46, 47, 57,  1, 50, 53],\n",
            "        [ 1, 58, 46, 43, 56, 43,  1, 41],\n",
            "        [17, 26, 15, 17, 10,  0, 32, 53],\n",
            "        [57, 58,  6,  1, 61, 47, 58, 46]]) \n",
            "tTargets: torch.Size([4, 8]) \n",
            "tensor([[ 1, 46, 47, 57,  1, 50, 53, 60],\n",
            "        [58, 46, 43, 56, 43,  1, 41, 39],\n",
            "        [26, 15, 17, 10,  0, 32, 53,  1],\n",
            "        [58,  6,  1, 61, 47, 58, 46,  0]])\n",
            "when input is [57] the target is 1\n",
            "when input is [57, 1] the target is 46\n",
            "when input is [57, 1, 46] the target is 47\n",
            "when input is [57, 1, 46, 47] the target is 57\n",
            "when input is [57, 1, 46, 47, 57] the target is 1\n",
            "when input is [57, 1, 46, 47, 57, 1] the target is 50\n",
            "when input is [57, 1, 46, 47, 57, 1, 50] the target is 53\n",
            "when input is [57, 1, 46, 47, 57, 1, 50, 53] the target is 60\n",
            "when input is [1] the target is 58\n",
            "when input is [1, 58] the target is 46\n",
            "when input is [1, 58, 46] the target is 43\n",
            "when input is [1, 58, 46, 43] the target is 56\n",
            "when input is [1, 58, 46, 43, 56] the target is 43\n",
            "when input is [1, 58, 46, 43, 56, 43] the target is 1\n",
            "when input is [1, 58, 46, 43, 56, 43, 1] the target is 41\n",
            "when input is [1, 58, 46, 43, 56, 43, 1, 41] the target is 39\n",
            "when input is [17] the target is 26\n",
            "when input is [17, 26] the target is 15\n",
            "when input is [17, 26, 15] the target is 17\n",
            "when input is [17, 26, 15, 17] the target is 10\n",
            "when input is [17, 26, 15, 17, 10] the target is 0\n",
            "when input is [17, 26, 15, 17, 10, 0] the target is 32\n",
            "when input is [17, 26, 15, 17, 10, 0, 32] the target is 53\n",
            "when input is [17, 26, 15, 17, 10, 0, 32, 53] the target is 1\n",
            "when input is [57] the target is 58\n",
            "when input is [57, 58] the target is 6\n",
            "when input is [57, 58, 6] the target is 1\n",
            "when input is [57, 58, 6, 1] the target is 61\n",
            "when input is [57, 58, 6, 1, 61] the target is 47\n",
            "when input is [57, 58, 6, 1, 61, 47] the target is 58\n",
            "when input is [57, 58, 6, 1, 61, 47, 58] the target is 46\n",
            "when input is [57, 58, 6, 1, 61, 47, 58, 46] the target is 0\n"
          ]
        }
      ]
    },
    {
      "cell_type": "code",
      "source": [
        "class BiGramLM(nn.Module):\n",
        "    def __init__(self, vocab_size):\n",
        "        super().__init__()\n",
        "        self.tk_emb_table = nn.Embedding(vocab_size, vocab_size)\n",
        "\n",
        "    def forward(self, idx, targets=None):\n",
        "        logits = self.tk_emb_table(idx) # (Batch, Time, Channel)\n",
        "        # logits = torch.permute(logits, (0, 2, 1))\n",
        "        if targets is None:\n",
        "            loss = None\n",
        "        else:\n",
        "            B, T, C = logits.shape\n",
        "            logits = logits.view(B*T, C)\n",
        "            targets = targets.view(B*T)\n",
        "            loss = F.cross_entropy(logits, targets)\n",
        "\n",
        "        return logits, loss\n",
        "\n",
        "    def generate(self, idx, max_new_tokens):\n",
        "        for _ in range(max_new_tokens):\n",
        "            # get predictions\n",
        "            logits, loss = self(idx)\n",
        "            # focus on last time step\n",
        "            logits = logits[:, -1, :]\n",
        "            # apply softmax to get probabilities\n",
        "            probs = F.softmax(logits, dim=-1)\n",
        "            # sample from distribution\n",
        "            idx_next = torch.multinomial(probs, num_samples=1)\n",
        "            # append sampled index to sequence\n",
        "            idx = torch.cat((idx, idx_next), dim=1)\n",
        "        return idx"
      ],
      "metadata": {
        "id": "0CM5iEYrW7UP"
      },
      "execution_count": null,
      "outputs": []
    },
    {
      "cell_type": "code",
      "source": [
        "model = BiGramLM(vocab_size)\n",
        "logits, loss = model(xb, yb)\n",
        "print(f\"Logits Shape: {logits.shape} \\nLoss: {loss} \\nExpected Loss (-log(1/65)): {-np.log(1/65)}\")"
      ],
      "metadata": {
        "colab": {
          "base_uri": "https://localhost:8080/"
        },
        "id": "DvlHvMzzYoy6",
        "outputId": "cfe25cc6-d45f-49b0-9444-8ec45a9cd923"
      },
      "execution_count": null,
      "outputs": [
        {
          "output_type": "stream",
          "name": "stdout",
          "text": [
            "Logits Shape: torch.Size([32, 65]) \n",
            "Loss: 4.724130630493164 \n",
            "Expected Loss (-log(1/65)): 4.174387269895637\n"
          ]
        }
      ]
    },
    {
      "cell_type": "code",
      "source": [
        "idx = torch.zeros((1,1), dtype=torch.long)\n",
        "pred = decode(model.generate(idx, max_new_tokens=100)[0].tolist())\n",
        "print(pred)"
      ],
      "metadata": {
        "colab": {
          "base_uri": "https://localhost:8080/"
        },
        "id": "bMdB-iHnTKbA",
        "outputId": "962c46b8-73cf-45d5-bb56-73ec90513f3e"
      },
      "execution_count": null,
      "outputs": [
        {
          "output_type": "stream",
          "name": "stdout",
          "text": [
            "\n",
            "F$z\n",
            "E?kFwu\n",
            "'buM-,Y3fYNsA3xp.mpsAqaZ-RUldc;F\n",
            "M$GfYCUCkFO-bJbz-R;O!slp.FNsJDV'jRzIMQ'EdRbqAoWTjrniaIIa\n"
          ]
        }
      ]
    },
    {
      "cell_type": "code",
      "source": [
        "optimizer = torch.optim.AdamW(model.parameters(), lr=1e-3)"
      ],
      "metadata": {
        "id": "5Zj24UF6TKYM"
      },
      "execution_count": null,
      "outputs": []
    },
    {
      "cell_type": "code",
      "source": [
        "batch_size = 32\n",
        "for steps in range(10000):\n",
        "    xb, yb = get_batch('train')\n",
        "\n",
        "    logits, loss = model(xb, yb)\n",
        "    optimizer.zero_grad(set_to_none=True)\n",
        "    loss.backward()\n",
        "    optimizer.step()\n",
        "    if steps % 1000 == 0 or steps == 10000:\n",
        "        print(loss.item())"
      ],
      "metadata": {
        "colab": {
          "base_uri": "https://localhost:8080/"
        },
        "id": "tNx0jgFHinZ4",
        "outputId": "0da29b4f-f50c-4c57-f8e4-b78ae27e5b01"
      },
      "execution_count": null,
      "outputs": [
        {
          "output_type": "stream",
          "name": "stdout",
          "text": [
            "4.7295145988464355\n",
            "3.8045549392700195\n",
            "3.0847537517547607\n",
            "2.7263264656066895\n",
            "2.6540687084198\n",
            "2.5964434146881104\n",
            "2.6903610229492188\n",
            "2.58370041847229\n",
            "2.390960693359375\n",
            "2.4909160137176514\n"
          ]
        }
      ]
    },
    {
      "cell_type": "code",
      "source": [
        "idx = torch.zeros((1,1), dtype=torch.long)\n",
        "pred = decode(model.generate(idx, max_new_tokens=300)[0].tolist())\n",
        "print(pred)"
      ],
      "metadata": {
        "colab": {
          "base_uri": "https://localhost:8080/"
        },
        "id": "h2SG8N8QjrkC",
        "outputId": "a9f468ff-f37c-4b35-bc3b-124e0cf21185"
      },
      "execution_count": null,
      "outputs": [
        {
          "output_type": "stream",
          "name": "stdout",
          "text": [
            "\n",
            "VAROLUSait; l ICotherer w war ha yevelise 'tWhowKEmurfor add hiull DULY Wod ongoz-berthHicirds wavente, m te kere isd, m INGea earusher Tistced.\n",
            "Wharologo!\n",
            "\n",
            "\n",
            "WhORDUCKETELK:\n",
            "Tof?\n",
            "GUFarastaldXfeshowoolicou myour d:\n",
            "BERDou S:\n",
            "GES por s bemue orinth'Top mofeawontill wintiryopiat fh o p--healy wecayse ho\n"
          ]
        }
      ]
    },
    {
      "cell_type": "markdown",
      "source": [
        "# The Mathematical trick in self-attention"
      ],
      "metadata": {
        "id": "mO7Vgs2Kowlw"
      }
    },
    {
      "cell_type": "code",
      "source": [
        "# toy example\n",
        "torch.manual_seed(1337)\n",
        "B,T,C = 4,8,2\n",
        "x = torch.randn(B,T,C)\n",
        "x.shape"
      ],
      "metadata": {
        "colab": {
          "base_uri": "https://localhost:8080/"
        },
        "id": "LMkC5IbXkkI7",
        "outputId": "ca48f43b-002d-4e6f-c882-b285893edfc8"
      },
      "execution_count": null,
      "outputs": [
        {
          "output_type": "execute_result",
          "data": {
            "text/plain": [
              "torch.Size([4, 8, 2])"
            ]
          },
          "metadata": {},
          "execution_count": 115
        }
      ]
    },
    {
      "cell_type": "code",
      "source": [
        "xbow = torch.zeros((B,T,C))\n",
        "for b in range(B):\n",
        "    for t in range(T):\n",
        "        xprev = x[b, :t+1]\n",
        "        xbow[b,t] = torch.mean(xprev, 0)"
      ],
      "metadata": {
        "id": "bUnuKrbspsOV"
      },
      "execution_count": null,
      "outputs": []
    },
    {
      "cell_type": "code",
      "source": [
        "x[0], xbow[0]"
      ],
      "metadata": {
        "colab": {
          "base_uri": "https://localhost:8080/"
        },
        "id": "FIJ_XRz1pArC",
        "outputId": "e45a2fa2-0f0c-4e1a-fbdf-39ed39e174d1"
      },
      "execution_count": null,
      "outputs": [
        {
          "output_type": "execute_result",
          "data": {
            "text/plain": [
              "(tensor([[ 0.1808, -0.0700],\n",
              "         [-0.3596, -0.9152],\n",
              "         [ 0.6258,  0.0255],\n",
              "         [ 0.9545,  0.0643],\n",
              "         [ 0.3612,  1.1679],\n",
              "         [-1.3499, -0.5102],\n",
              "         [ 0.2360, -0.2398],\n",
              "         [-0.9211,  1.5433]]),\n",
              " tensor([[ 0.1808, -0.0700],\n",
              "         [-0.0894, -0.4926],\n",
              "         [ 0.1490, -0.3199],\n",
              "         [ 0.3504, -0.2238],\n",
              "         [ 0.3525,  0.0545],\n",
              "         [ 0.0688, -0.0396],\n",
              "         [ 0.0927, -0.0682],\n",
              "         [-0.0341,  0.1332]]))"
            ]
          },
          "metadata": {},
          "execution_count": 117
        }
      ]
    },
    {
      "cell_type": "code",
      "source": [
        "wei = torch.tril(torch.ones(T, T))\n",
        "wei = wei / wei.sum(1, keepdim=True)\n",
        "xbow2 = wei @ x # (/B, T, T) @ (B, T, C) -> (B, T, C)"
      ],
      "metadata": {
        "id": "vK8D_atZJgYh"
      },
      "execution_count": null,
      "outputs": []
    },
    {
      "cell_type": "code",
      "source": [
        "torch.allclose(xbow, xbow2)"
      ],
      "metadata": {
        "colab": {
          "base_uri": "https://localhost:8080/"
        },
        "id": "c4l35lWbKDKZ",
        "outputId": "13f2141c-859a-4aa0-894c-981218901e31"
      },
      "execution_count": null,
      "outputs": [
        {
          "output_type": "execute_result",
          "data": {
            "text/plain": [
              "False"
            ]
          },
          "metadata": {},
          "execution_count": 119
        }
      ]
    },
    {
      "cell_type": "code",
      "source": [
        "tril = torch.tril(torch.ones(T, T))\n",
        "tril"
      ],
      "metadata": {
        "colab": {
          "base_uri": "https://localhost:8080/"
        },
        "id": "GV0nRrWiLO1o",
        "outputId": "62410318-010c-4965-a071-aef34df97d11"
      },
      "execution_count": null,
      "outputs": [
        {
          "output_type": "execute_result",
          "data": {
            "text/plain": [
              "tensor([[1., 0., 0., 0., 0., 0., 0., 0.],\n",
              "        [1., 1., 0., 0., 0., 0., 0., 0.],\n",
              "        [1., 1., 1., 0., 0., 0., 0., 0.],\n",
              "        [1., 1., 1., 1., 0., 0., 0., 0.],\n",
              "        [1., 1., 1., 1., 1., 0., 0., 0.],\n",
              "        [1., 1., 1., 1., 1., 1., 0., 0.],\n",
              "        [1., 1., 1., 1., 1., 1., 1., 0.],\n",
              "        [1., 1., 1., 1., 1., 1., 1., 1.]])"
            ]
          },
          "metadata": {},
          "execution_count": 120
        }
      ]
    },
    {
      "cell_type": "code",
      "source": [
        "wei = torch.zeros((T, T))\n",
        "wei"
      ],
      "metadata": {
        "colab": {
          "base_uri": "https://localhost:8080/"
        },
        "id": "ZvJmNm4dLQEZ",
        "outputId": "d0d3d3ee-1ed0-4f97-adcf-fac0532a0c55"
      },
      "execution_count": null,
      "outputs": [
        {
          "output_type": "execute_result",
          "data": {
            "text/plain": [
              "tensor([[0., 0., 0., 0., 0., 0., 0., 0.],\n",
              "        [0., 0., 0., 0., 0., 0., 0., 0.],\n",
              "        [0., 0., 0., 0., 0., 0., 0., 0.],\n",
              "        [0., 0., 0., 0., 0., 0., 0., 0.],\n",
              "        [0., 0., 0., 0., 0., 0., 0., 0.],\n",
              "        [0., 0., 0., 0., 0., 0., 0., 0.],\n",
              "        [0., 0., 0., 0., 0., 0., 0., 0.],\n",
              "        [0., 0., 0., 0., 0., 0., 0., 0.]])"
            ]
          },
          "metadata": {},
          "execution_count": 121
        }
      ]
    },
    {
      "cell_type": "code",
      "source": [
        "wei = wei.masked_fill(tril == 0, float('-inf'))\n",
        "wei"
      ],
      "metadata": {
        "colab": {
          "base_uri": "https://localhost:8080/"
        },
        "id": "7407v2w5LTs5",
        "outputId": "404f1179-4ee3-41a6-fb60-f8ebd6b67911"
      },
      "execution_count": null,
      "outputs": [
        {
          "output_type": "execute_result",
          "data": {
            "text/plain": [
              "tensor([[0., -inf, -inf, -inf, -inf, -inf, -inf, -inf],\n",
              "        [0., 0., -inf, -inf, -inf, -inf, -inf, -inf],\n",
              "        [0., 0., 0., -inf, -inf, -inf, -inf, -inf],\n",
              "        [0., 0., 0., 0., -inf, -inf, -inf, -inf],\n",
              "        [0., 0., 0., 0., 0., -inf, -inf, -inf],\n",
              "        [0., 0., 0., 0., 0., 0., -inf, -inf],\n",
              "        [0., 0., 0., 0., 0., 0., 0., -inf],\n",
              "        [0., 0., 0., 0., 0., 0., 0., 0.]])"
            ]
          },
          "metadata": {},
          "execution_count": 122
        }
      ]
    },
    {
      "cell_type": "code",
      "source": [
        "wei = F.softmax(wei, dim=1)\n",
        "wei"
      ],
      "metadata": {
        "colab": {
          "base_uri": "https://localhost:8080/"
        },
        "id": "gbRpVJZTLXaY",
        "outputId": "41dae406-ded7-432b-ff2d-f293438eea4d"
      },
      "execution_count": null,
      "outputs": [
        {
          "output_type": "execute_result",
          "data": {
            "text/plain": [
              "tensor([[1.0000, 0.0000, 0.0000, 0.0000, 0.0000, 0.0000, 0.0000, 0.0000],\n",
              "        [0.5000, 0.5000, 0.0000, 0.0000, 0.0000, 0.0000, 0.0000, 0.0000],\n",
              "        [0.3333, 0.3333, 0.3333, 0.0000, 0.0000, 0.0000, 0.0000, 0.0000],\n",
              "        [0.2500, 0.2500, 0.2500, 0.2500, 0.0000, 0.0000, 0.0000, 0.0000],\n",
              "        [0.2000, 0.2000, 0.2000, 0.2000, 0.2000, 0.0000, 0.0000, 0.0000],\n",
              "        [0.1667, 0.1667, 0.1667, 0.1667, 0.1667, 0.1667, 0.0000, 0.0000],\n",
              "        [0.1429, 0.1429, 0.1429, 0.1429, 0.1429, 0.1429, 0.1429, 0.0000],\n",
              "        [0.1250, 0.1250, 0.1250, 0.1250, 0.1250, 0.1250, 0.1250, 0.1250]])"
            ]
          },
          "metadata": {},
          "execution_count": 123
        }
      ]
    },
    {
      "cell_type": "code",
      "source": [
        "xbow3 = wei @ x"
      ],
      "metadata": {
        "id": "zDh_vNb5KkRt"
      },
      "execution_count": null,
      "outputs": []
    },
    {
      "cell_type": "code",
      "source": [
        "torch.allclose(xbow, xbow3)"
      ],
      "metadata": {
        "colab": {
          "base_uri": "https://localhost:8080/"
        },
        "id": "t7soWxFSK2n9",
        "outputId": "ca09bca1-30a3-4351-9cb7-80241b68f7de"
      },
      "execution_count": null,
      "outputs": [
        {
          "output_type": "execute_result",
          "data": {
            "text/plain": [
              "False"
            ]
          },
          "metadata": {},
          "execution_count": 125
        }
      ]
    },
    {
      "cell_type": "code",
      "source": [
        "torch.manual_seed(42)\n",
        "a = torch.ones(3,3)\n",
        "b = torch.randint(0, 10, (3,2)).float()\n",
        "c = a @ b\n",
        "print(f\"a = \\n{a} \\nb = \\n{b} \\nc = \\n{c} \\n\")"
      ],
      "metadata": {
        "colab": {
          "base_uri": "https://localhost:8080/"
        },
        "id": "unKfmLjTqYoa",
        "outputId": "00c3de06-7dd7-4896-b079-8f1c8eb92c01"
      },
      "execution_count": null,
      "outputs": [
        {
          "output_type": "stream",
          "name": "stdout",
          "text": [
            "a = \n",
            "tensor([[1., 1., 1.],\n",
            "        [1., 1., 1.],\n",
            "        [1., 1., 1.]]) \n",
            "b = \n",
            "tensor([[2., 7.],\n",
            "        [6., 4.],\n",
            "        [6., 5.]]) \n",
            "c = \n",
            "tensor([[14., 16.],\n",
            "        [14., 16.],\n",
            "        [14., 16.]]) \n",
            "\n"
          ]
        }
      ]
    },
    {
      "cell_type": "code",
      "source": [
        "torch.tril(torch.ones(3,3))"
      ],
      "metadata": {
        "colab": {
          "base_uri": "https://localhost:8080/"
        },
        "id": "Qlm6ZyPoIsbL",
        "outputId": "08939431-c2e3-4d8a-a6cf-60f8b1b9c093"
      },
      "execution_count": null,
      "outputs": [
        {
          "output_type": "execute_result",
          "data": {
            "text/plain": [
              "tensor([[1., 0., 0.],\n",
              "        [1., 1., 0.],\n",
              "        [1., 1., 1.]])"
            ]
          },
          "metadata": {},
          "execution_count": 127
        }
      ]
    },
    {
      "cell_type": "code",
      "source": [
        "torch.manual_seed(42)\n",
        "a = torch.tril(torch.ones(3,3))\n",
        "a = a / torch.sum(a, 1, keepdim=True)\n",
        "b = torch.randint(0, 10, (3,2)).float()\n",
        "c = a @ b\n",
        "print(f\"a = \\n{a} \\nb = \\n{b} \\nc = \\n{c} \\n\")"
      ],
      "metadata": {
        "id": "Fa2Tv02vq5k_",
        "colab": {
          "base_uri": "https://localhost:8080/"
        },
        "outputId": "9273b8ae-31b7-4e09-ca9c-943cd096f2e1"
      },
      "execution_count": null,
      "outputs": [
        {
          "output_type": "stream",
          "name": "stdout",
          "text": [
            "a = \n",
            "tensor([[1.0000, 0.0000, 0.0000],\n",
            "        [0.5000, 0.5000, 0.0000],\n",
            "        [0.3333, 0.3333, 0.3333]]) \n",
            "b = \n",
            "tensor([[2., 7.],\n",
            "        [6., 4.],\n",
            "        [6., 5.]]) \n",
            "c = \n",
            "tensor([[2.0000, 7.0000],\n",
            "        [4.0000, 5.5000],\n",
            "        [4.6667, 5.3333]]) \n",
            "\n"
          ]
        }
      ]
    },
    {
      "cell_type": "code",
      "source": [
        "torch.manual_seed(1337)\n",
        "B,T,C = 4,8,32 # 4x8 arrangement of tokens, where each token is 32-dim\n",
        "x = torch.randn(B,T,C)\n",
        "\n",
        "# single head to perfomr self-attention\n",
        "head_size = 16\n",
        "key = nn.Linear(C, head_size, bias=False)\n",
        "query = nn.Linear(C, head_size, bias=False)\n",
        "value = nn.Linear(C, head_size, bias=False)\n",
        "k = key(x) # (B, T, 16)\n",
        "q = query(x) # (B, T, 16)\n",
        "wei = q @ k.transpose(-2, -1) # (B, T, 16) @ (B, 16, T) -> (B, T, T)\n",
        "\n",
        "tril = torch.tril(torch.ones(T,T))\n",
        "# wei = torch.zeros((T,T))\n",
        "wei = wei.masked_fill(tril == 0, float('-inf'))\n",
        "wei = F.softmax(wei, dim=1)\n",
        "v = value(x)\n",
        "out = wei @ v\n",
        "\n",
        "out.shape"
      ],
      "metadata": {
        "colab": {
          "base_uri": "https://localhost:8080/"
        },
        "id": "LA1A67hpHuVu",
        "outputId": "a18765c4-20fa-45e1-bded-a83124cd9fe5"
      },
      "execution_count": null,
      "outputs": [
        {
          "output_type": "execute_result",
          "data": {
            "text/plain": [
              "torch.Size([4, 8, 16])"
            ]
          },
          "metadata": {},
          "execution_count": 129
        }
      ]
    },
    {
      "cell_type": "code",
      "source": [
        "wei[0]"
      ],
      "metadata": {
        "colab": {
          "base_uri": "https://localhost:8080/"
        },
        "id": "nFBy0inbHuS3",
        "outputId": "06f71c33-f853-44ce-e5f2-6d1ef58b606f"
      },
      "execution_count": null,
      "outputs": [
        {
          "output_type": "execute_result",
          "data": {
            "text/plain": [
              "tensor([[0.0248, 0.0000, 0.0000, 0.0000, 0.0000, 0.0000, 0.0000, 0.0000],\n",
              "        [0.0052, 0.0091, 0.0000, 0.0000, 0.0000, 0.0000, 0.0000, 0.0000],\n",
              "        [0.0521, 0.0135, 0.2482, 0.0000, 0.0000, 0.0000, 0.0000, 0.0000],\n",
              "        [0.3171, 0.0214, 0.1642, 0.1188, 0.0000, 0.0000, 0.0000, 0.0000],\n",
              "        [0.0412, 0.0487, 0.1046, 0.0742, 0.2000, 0.0000, 0.0000, 0.0000],\n",
              "        [0.1060, 0.5347, 0.2059, 0.1030, 0.7402, 0.0192, 0.0000, 0.0000],\n",
              "        [0.4298, 0.3409, 0.1769, 0.2027, 0.0480, 0.8472, 0.2329, 0.0000],\n",
              "        [0.0238, 0.0316, 0.1002, 0.5013, 0.0117, 0.1336, 0.7671, 1.0000]],\n",
              "       grad_fn=<SelectBackward0>)"
            ]
          },
          "metadata": {},
          "execution_count": 130
        }
      ]
    },
    {
      "cell_type": "markdown",
      "source": [
        "Notes:\n",
        "- Attention is a **communication mechanism**. Can be seen as nodes in a directed graph looking at each other and aggregating information with a weighted sum from all nodes that point to them, with data-dependent weights.\n",
        "- There is no notion of space. Attention simply acts over a set of vectors. This is why we need to positionally encode tokens.\n",
        "- Each example across batch dimension is of course processed completely independently and never \"talk\" to each other\n",
        "- In an \"encoder\" attention block just delete the single line that does masking with `tril`, allowing all tokens to communicate. This block here is called a \"decoder\" attention block because it has triangular masking, and is usually used in autoregressive settings, like language modeling.\n",
        "- \"self-attention\" just means that the keys and values are produced from the same source as queries. In \"cross-attention\", the queries still get produced from x, but the keys and values come from some other, external source (e.g. an encoder module)\n",
        "- \"Scaled\" attention additional divides `wei` by 1/sqrt(head_size). This makes it so when input Q,K are unit variance, wei will be unit variance too and Softmax will stay diffuse and not saturate too much. Illustration below"
      ],
      "metadata": {
        "id": "zqyxh4PLhqPA"
      }
    },
    {
      "cell_type": "code",
      "source": [
        "k = torch.randn(B,T,head_size)\n",
        "q = torch.randn(B,T,head_size)\n",
        "wei = q @ k.transpose(-2, -1) * head_size**-0.5\n"
      ],
      "metadata": {
        "id": "Lw-uBJgnHuQd"
      },
      "execution_count": null,
      "outputs": []
    },
    {
      "cell_type": "code",
      "source": [
        "k.var()"
      ],
      "metadata": {
        "id": "f8rOtaOwHuNX",
        "colab": {
          "base_uri": "https://localhost:8080/"
        },
        "outputId": "26be300b-3f87-4870-ed92-7065a8a41a70"
      },
      "execution_count": null,
      "outputs": [
        {
          "output_type": "execute_result",
          "data": {
            "text/plain": [
              "tensor(1.0449)"
            ]
          },
          "metadata": {},
          "execution_count": 132
        }
      ]
    },
    {
      "cell_type": "code",
      "source": [
        "q.var()"
      ],
      "metadata": {
        "id": "FUi23Xq6HuIh",
        "colab": {
          "base_uri": "https://localhost:8080/"
        },
        "outputId": "d8ecf4d7-ae51-4813-d4a2-71084d5be2ac"
      },
      "execution_count": null,
      "outputs": [
        {
          "output_type": "execute_result",
          "data": {
            "text/plain": [
              "tensor(1.0700)"
            ]
          },
          "metadata": {},
          "execution_count": 133
        }
      ]
    },
    {
      "cell_type": "code",
      "source": [
        "wei.var()"
      ],
      "metadata": {
        "id": "YOE7HstpHt_D",
        "colab": {
          "base_uri": "https://localhost:8080/"
        },
        "outputId": "f7208bdb-d519-4465-d2d5-9f0c33730aa6"
      },
      "execution_count": null,
      "outputs": [
        {
          "output_type": "execute_result",
          "data": {
            "text/plain": [
              "tensor(1.0918)"
            ]
          },
          "metadata": {},
          "execution_count": 134
        }
      ]
    },
    {
      "cell_type": "code",
      "source": [
        "torch.softmax(torch.tensor([0.1, -0.2, 0.3, -0.2, 0.5]), dim=-1)"
      ],
      "metadata": {
        "colab": {
          "base_uri": "https://localhost:8080/"
        },
        "id": "TZqcdsoQlk-D",
        "outputId": "67b5673d-3597-42b4-bdd9-bec8e65a0902"
      },
      "execution_count": null,
      "outputs": [
        {
          "output_type": "execute_result",
          "data": {
            "text/plain": [
              "tensor([0.1925, 0.1426, 0.2351, 0.1426, 0.2872])"
            ]
          },
          "metadata": {},
          "execution_count": 135
        }
      ]
    },
    {
      "cell_type": "code",
      "source": [
        "torch.softmax(torch.tensor([0.1, -0.2, 0.3, -0.2, 0.5])*8, dim=-1)\n"
      ],
      "metadata": {
        "colab": {
          "base_uri": "https://localhost:8080/"
        },
        "id": "jF-XtLVUltxx",
        "outputId": "24334961-e516-40ce-d467-1a5b2ec11b5a"
      },
      "execution_count": null,
      "outputs": [
        {
          "output_type": "execute_result",
          "data": {
            "text/plain": [
              "tensor([0.0326, 0.0030, 0.1615, 0.0030, 0.8000])"
            ]
          },
          "metadata": {},
          "execution_count": 136
        }
      ]
    },
    {
      "cell_type": "code",
      "source": [
        "class LayerNorm1d(nn.Module):\n",
        "    def __init__(self, dim, eps=1e-5):\n",
        "        super().__init__()\n",
        "        self.eps = eps\n",
        "        self.gamma = torch.ones(dim)\n",
        "        self.beta = torch.zeros(dim)\n",
        "\n",
        "    def __call__(self, x):\n",
        "        xmean = x.mean(dim=1, keepdim=True)\n",
        "        xvar = x.var(dim=1, keepdim=True)\n",
        "        xhat = (x - xmean) / torch.sqrt(xvar + self.eps)\n",
        "        self.out = self.gamma * xhat + self.beta\n",
        "        return self.out\n",
        "\n",
        "    def parameters(self):\n",
        "        return [self.gamma, self.beta]\n",
        "\n",
        "torch.manual_seed(1337)\n",
        "module = LayerNorm1d(100)\n",
        "x = torch.randn(32, 100)\n",
        "x = module(x)\n",
        "x.shape"
      ],
      "metadata": {
        "colab": {
          "base_uri": "https://localhost:8080/"
        },
        "id": "xJJ8CpZvlvr0",
        "outputId": "a6771e27-8d3b-4127-942b-8fcb1f11ba6c"
      },
      "execution_count": null,
      "outputs": [
        {
          "output_type": "execute_result",
          "data": {
            "text/plain": [
              "torch.Size([32, 100])"
            ]
          },
          "metadata": {},
          "execution_count": 144
        }
      ]
    },
    {
      "cell_type": "code",
      "source": [
        "x[0, :].mean(), x[:, 0].std()"
      ],
      "metadata": {
        "colab": {
          "base_uri": "https://localhost:8080/"
        },
        "id": "7T1i1Koz_r4n",
        "outputId": "b8f1b7cb-bcb6-47d5-ad85-17a274946f25"
      },
      "execution_count": null,
      "outputs": [
        {
          "output_type": "execute_result",
          "data": {
            "text/plain": [
              "(tensor(-9.5367e-09), tensor(0.8803))"
            ]
          },
          "metadata": {},
          "execution_count": 145
        }
      ]
    },
    {
      "cell_type": "code",
      "source": [
        "x[0, :].mean(), x[0, :].std()"
      ],
      "metadata": {
        "colab": {
          "base_uri": "https://localhost:8080/"
        },
        "id": "8fSogfM7_xv2",
        "outputId": "ede4b986-022e-4e24-da60-f09382fcd9d2"
      },
      "execution_count": null,
      "outputs": [
        {
          "output_type": "execute_result",
          "data": {
            "text/plain": [
              "(tensor(-9.5367e-09), tensor(1.0000))"
            ]
          },
          "metadata": {},
          "execution_count": 146
        }
      ]
    },
    {
      "cell_type": "code",
      "source": [
        "import torch\n",
        "import torch.nn as nn\n",
        "from torch.nn import functional as F\n",
        "\n",
        "block_size = 64\n",
        "batch_size = 256\n",
        "max_iters = 5000\n",
        "eval_interval = 500\n",
        "lr = 3e-4\n",
        "device = 'cuda' if torch.cuda.is_available() else 'cpu'\n",
        "eval_iters = 200\n",
        "n_embd_dim = 384\n",
        "n_head = 6\n",
        "n_layer = 6\n",
        "dropout = 0.2\n",
        "\n",
        "# download the file\n",
        "# import urllib.request\n",
        "# url = 'https://raw.githubusercontent.com/karpathy/char-rnn/master/data/tinyshakespeare/input.txt'\n",
        "# filename = 'input.txt'\n",
        "# urllib.request.urlretrieve(url, filename)\n",
        "\n",
        "with open('input.txt', 'r', encoding='utf-8') as f:\n",
        "    text = f.read()\n",
        "\n",
        "chars = sorted(list(set(text)))\n",
        "vocab_size = len(chars)\n",
        "\n",
        "# mapping from char to int, and from into to char\n",
        "stoi = { ch:i for i,ch in enumerate(chars) }\n",
        "itos = { i:ch for i,ch in enumerate(chars) }\n",
        "encode = lambda s: [stoi[c] for c in s] # encoder: takes a string, outputs a list of int\n",
        "decode = lambda l: ''.join([itos[i] for i in l]) # decoder: takes a list of int, outputs a string\n",
        "\n",
        "data = torch.tensor(encode(text), dtype=torch.long)\n",
        "\n",
        "n = int(0.9*len(data))\n",
        "train_data = data[:n]\n",
        "val_data = data[n:]\n",
        "\n",
        "x = train_data[:block_size]\n",
        "y = train_data[1:block_size+1]\n",
        "for t in range(block_size):\n",
        "    context = x[:t+1]\n",
        "    target = y[t]\n",
        "\n",
        "def get_batch(split):\n",
        "    data = train_data if split == 'train' else val_data\n",
        "    ix = torch.randint(len(data) - block_size, (batch_size, ))\n",
        "    x = torch.stack([data[i:i+block_size] for i in ix])\n",
        "    y = torch.stack([data[i+1:i+block_size+1] for i in ix])\n",
        "    return x, y\n",
        "\n",
        "@torch.no_grad()\n",
        "def estimate_loss():\n",
        "    out = {}\n",
        "    model.eval()\n",
        "    for split in ['train', 'val']:\n",
        "        losses = torch.zeros(eval_iters)\n",
        "        for k in range(eval_iters):\n",
        "            X, Y = get_batch(split)\n",
        "            X, Y = X.to(device), Y.to(device)\n",
        "            logits, loss = model(X, Y)\n",
        "            losses[k] = loss.item()\n",
        "        out[split] = losses.mean()\n",
        "    model.train()\n",
        "    return out\n",
        "\n",
        "xb, yb = get_batch('train')\n",
        "\n",
        "for b in range(batch_size):\n",
        "    for t in range(block_size):\n",
        "        context = xb[b, :t+1]\n",
        "        target = yb[b, t]\n",
        "\n",
        "class Head(nn.Module):\n",
        "    def __init__(self, head_size):\n",
        "        super().__init__()\n",
        "        self.key = nn.Linear(n_embd_dim, head_size, bias=False)\n",
        "        self.query = nn.Linear(n_embd_dim, head_size, bias=False)\n",
        "        self.value = nn.Linear(n_embd_dim, head_size, bias=False)\n",
        "        self.register_buffer('tril', torch.tril(torch.ones(block_size, block_size)))\n",
        "\n",
        "        self.dropout = nn.Dropout(dropout)\n",
        "\n",
        "    def forward(self, x):\n",
        "        B, T, C = x.shape\n",
        "        k = self.key(x)\n",
        "        q = self.query(x)\n",
        "        # compute the attention scores (\"affinities\")\n",
        "        wei = q @ k.transpose(-2, -1) * C**-0.5\n",
        "        wei = wei.masked_fill(self.tril[:T, :T] == 0, float('-inf'))\n",
        "        wei = F.softmax(wei, dim=-1)\n",
        "        wei = self.dropout(wei)\n",
        "        # weighted aggregation of values\n",
        "        v = self.value(x)\n",
        "        out = wei @ v\n",
        "        return out\n",
        "\n",
        "class MultiHeadAttention(nn.Module):\n",
        "    def __init__(self, num_heads, head_size):\n",
        "        super().__init__()\n",
        "        self.heads = nn.ModuleList([Head(head_size) for _ in range(num_heads)])\n",
        "        self.proj = nn.Linear(n_embd_dim, n_embd_dim)\n",
        "        self.dropout = nn.Dropout(dropout)\n",
        "\n",
        "    def forward(self, x):\n",
        "        out = torch.cat([head(x) for head in self.heads], dim=-1)\n",
        "        out = self.dropout(self.proj(out))\n",
        "        return out\n",
        "\n",
        "class FeedForward(nn.Module):\n",
        "    def __init__(self, n_embd_dim):\n",
        "        super().__init__()\n",
        "        self.net = nn.Sequential(\n",
        "            nn.Linear(n_embd_dim, 4 * n_embd_dim),\n",
        "            nn.ReLU(),\n",
        "            nn.Linear(4 * n_embd_dim, n_embd_dim), # projection layer\n",
        "            nn.Dropout(dropout),\n",
        "        )\n",
        "\n",
        "    def forward(self, x):\n",
        "        return self.net(x)\n",
        "\n",
        "class Block(nn.Module):\n",
        "    \"\"\"Transformer Block.\"\"\"\n",
        "    def __init__(self, n_embd_dim, n_heads):\n",
        "        super().__init__()\n",
        "        head_size = n_embd_dim // n_heads\n",
        "        self.sa = MultiHeadAttention(n_heads, head_size) # communication\n",
        "        self.ffwd = FeedForward(n_embd_dim) # computation\n",
        "        self.ln1 = nn.LayerNorm(n_embd_dim)\n",
        "        self.ln2 = nn.LayerNorm(n_embd_dim)\n",
        "\n",
        "    def forward(self, x):\n",
        "        x = x + self.sa(self.ln1(x))\n",
        "        x = x + self.ffwd(self.ln2(x))\n",
        "        return x\n",
        "\n",
        "class BiGramLM(nn.Module):\n",
        "    def __init__(self):\n",
        "        super().__init__()\n",
        "        self.tk_emb_table = nn.Embedding(vocab_size, n_embd_dim)\n",
        "        self.position_emb_table = nn.Embedding(block_size, n_embd_dim)\n",
        "        self.blocks = nn.Sequential(*[Block(n_embd_dim, n_heads=n_head) for _ in range(n_layer)])\n",
        "        self.ln_f = nn.LayerNorm(n_embd_dim)\n",
        "        self.lm_head = nn.Linear(n_embd_dim, vocab_size)\n",
        "\n",
        "    def forward(self, idx, targets=None):\n",
        "        B, T = idx.shape\n",
        "\n",
        "        tk_embd = self.tk_emb_table(idx) # (Batch, Time, Channel)\n",
        "        pos_embd = self.position_emb_table(torch.arange(T, device=idx.device)) # (Time, Channel)\n",
        "        x = tk_embd + pos_embd\n",
        "        x = self.blocks(x)\n",
        "        x = self.ln_f(x)\n",
        "        logits = self.lm_head(x)\n",
        "\n",
        "        # logits = torch.permute(logits, (0, 2, 1))\n",
        "        if targets is None:\n",
        "            loss = None\n",
        "        else:\n",
        "            B, T, C = logits.shape\n",
        "            logits = logits.view(B*T, C)\n",
        "            targets = targets.view(B*T)\n",
        "            loss = F.cross_entropy(logits, targets)\n",
        "\n",
        "        return logits, loss\n",
        "\n",
        "    def generate(self, idx, max_new_tokens):\n",
        "        for _ in range(max_new_tokens):\n",
        "            # crop the idx to the last block_size tokens\n",
        "            idx_cond = idx[:, -block_size:]\n",
        "            # get predictions\n",
        "            logits, _ = self(idx_cond)\n",
        "            # focus on last time step\n",
        "            logits = logits[:, -1, :]\n",
        "            # apply softmax to get probabilities\n",
        "            probs = F.softmax(logits, dim=-1)\n",
        "            # sample from distribution\n",
        "            idx_next = torch.multinomial(probs, num_samples=1)\n",
        "            # append sampled index to sequence\n",
        "            idx = torch.cat((idx, idx_next), dim=1)\n",
        "        return idx\n",
        "\n",
        "model = BiGramLM().to(device)\n",
        "print(sum(p.numel() for p in model.parameters()) / 1e6, 'M Parameters')\n",
        "\n",
        "optimizer = torch.optim.Adam(model.parameters(), lr=lr)\n",
        "\n",
        "for it in range(max_iters):\n",
        "    model.train()\n",
        "    xb, yb = get_batch('train')\n",
        "    xb, yb = xb.to(device), yb.to(device)\n",
        "    logits, loss = model(xb, yb)\n",
        "    optimizer.zero_grad()\n",
        "    loss.backward()\n",
        "    optimizer.step()\n",
        "\n",
        "    if it % eval_interval == 0 or it == max_iters - 1:\n",
        "        losses = estimate_loss()\n",
        "        print(f'Iter {it:4d}, Train loss: {losses[\"train\"]:.2f}, Val loss: {losses[\"val\"]:.2f}')\n",
        "\n",
        "context = torch.zeros((1,1), dtype=torch.long, device=device)\n",
        "print(decode(model.generate(context, 500)[0].cpu().numpy()))"
      ],
      "metadata": {
        "colab": {
          "base_uri": "https://localhost:8080/"
        },
        "id": "BwxIv4N0_9Dq",
        "outputId": "d02aefd7-4884-4aff-ccb4-1af239881975"
      },
      "execution_count": null,
      "outputs": [
        {
          "output_type": "stream",
          "name": "stdout",
          "text": [
            "Iter    0, Train loss: 3.63, Val loss: 3.65\n",
            "Iter  500, Train loss: 1.65, Val loss: 1.81\n",
            "Iter 1000, Train loss: 1.43, Val loss: 1.63\n",
            "Iter 1500, Train loss: 1.34, Val loss: 1.56\n",
            "Iter 2000, Train loss: 1.29, Val loss: 1.54\n",
            "Iter 2500, Train loss: 1.24, Val loss: 1.52\n",
            "Iter 3000, Train loss: 1.20, Val loss: 1.52\n",
            "Iter 3500, Train loss: 1.17, Val loss: 1.51\n",
            "Iter 4000, Train loss: 1.14, Val loss: 1.51\n",
            "Iter 4500, Train loss: 1.11, Val loss: 1.52\n",
            "Iter 4999, Train loss: 1.08, Val loss: 1.52\n",
            "\n",
            "And by the Messenger's honour.\n",
            "\n",
            "Second Citizen:\n",
            "For every tongue\n",
            "were sensed in our deputy,\n",
            "And show'd your most such and feasting eyes' putting\n",
            "And justice that proclamations may jewly,\n",
            "But villainly\n"
          ]
        }
      ]
    },
    {
      "cell_type": "code",
      "source": [
        "print(decode(model.generate(context, 2500)[0].cpu().numpy()))"
      ],
      "metadata": {
        "colab": {
          "base_uri": "https://localhost:8080/"
        },
        "id": "pjKQ9snIPH_S",
        "outputId": "a58d89d9-da50-47e5-ef6b-59cba732a974"
      },
      "execution_count": null,
      "outputs": [
        {
          "output_type": "stream",
          "name": "stdout",
          "text": [
            "\n",
            "Gaunt:\n",
            "What wars he shall. His rest, he means three be he'ld.\n",
            "\n",
            "HENRY BOLINGBROKE:\n",
            "Joy lord, you tell the trumpet unite,\n",
            "Amity here, as I mean o' the fancy, in\n",
            "arguession's service, or looks nothing on servery, corn'd\n",
            "The maids of night doings doubly upon of God;\n",
            "And sentench their orwards are off allowed?\n",
            "For layful bague I draw his free-a.\n",
            "Thush Royal is held our much;\n",
            "But where he shall now see, this country's death?\n",
            "\n",
            "Nurse:\n",
            "These speech is something?\n",
            "\n",
            "LADY CAPULET:\n",
            "A honour, that have they can leave a weak unto the touchesy.\n",
            "\n",
            "BENVOLIO:\n",
            "For that thou art noble, perusequito, farewell.\n",
            "\n",
            "CLARENCE:\n",
            "Sir, I am o, or too the face of naturing war\n",
            "Is not to be preselved but his new.\n",
            "\n",
            "KING HENRY VI:\n",
            "O JOhince, let my son, I should wrought.\n",
            "\n",
            "Gaoler:\n",
            "Sirrah God, will I look your hand unworston.\n",
            "What moverwhy, are you may do?\n",
            "\n",
            "POMPEY:\n",
            "Your hands, your dispersions married with took-night:\n",
            "Too horroy good succession, right hath here to compell it\n",
            "On the stars which is the corse.\n",
            "\n",
            "Clown:\n",
            "Ay, coward;\n",
            "But since the ghost of my sturn.\n",
            "\n",
            "WARWICK:\n",
            "I thought there Enror, hear'd thee no more.\n",
            "\n",
            "ROMEO:\n",
            "Than thou speak him; all hither joints\n",
            "Must jest pale her, the golden marble\n",
            "On me rigor and me and sunmentity of yourself--\n",
            "\n",
            "NORTHUMBERLAND:\n",
            "My just I cave let it:--O and altower,\n",
            "Why for Paris and thee, Juliet?\n",
            "If you on myself beging place itself?\n",
            "O, I'll give not uggil the right pardon of state;\n",
            "And, title thou hast not have any case,\n",
            "With accurles my lords to step a that have\n",
            "Beforgue your sense borous.\n",
            "\n",
            "RIVERS:\n",
            "Why at not Ratcliff a fool.\n",
            "\n",
            "CORIOLANUS:\n",
            "You know them; your armitor, knowing\n",
            "And not a heart of him.\n",
            "\n",
            "MENENIUS:\n",
            "Come to, here's Caius. See your mother, sense;\n",
            "Which, I'll give love thee to behind\n",
            "Of breast hair Pybath: and tell unto a usurp'd exceed,\n",
            "Swillier or tongue.\n",
            "\n",
            "PULETER:\n",
            "Lay hope to him, to need begin her live.\n",
            "\n",
            "Lord:\n",
            "At thousand unounded,\n",
            "Thou must most sorrow, and beautions, thou'rt\n",
            "Abhortence, a queen; though become that I yet\n",
            "Even have thus pushed me thither.\n",
            "\n",
            "NORTHUMBERLAND:\n",
            "The tears is right.\n",
            "\n",
            "KING MARWICK:\n",
            "Sovereign, my lord?\n",
            "\n",
            "VIRGILIA:\n",
            "In God's sake, I have let thy suspic, I'ld reproace as\n",
            "The creation of my deputy, for every time--\n",
            "\n",
            "AUTOLYCUS:\n",
            "There, most sough six of this pity, unquit's\n",
            "A noble ship, since has done the marking of blook:\n",
            "And, if he give them, he might be winner\n",
            "Than like a man of sorrow. For what austeries\n",
            "And well ink then fill out at once this sword.\n",
            "\n",
            "BUCKINGHAM:\n",
            "If thou, tide not? Why death is my other wife;\n",
            "It yet yet before my \n"
          ]
        }
      ]
    }
  ]
}